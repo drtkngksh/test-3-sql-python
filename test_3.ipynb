{
 "cells": [
  {
   "cell_type": "code",
   "execution_count": 1,
   "id": "282ebf19",
   "metadata": {},
   "outputs": [],
   "source": [
    "import pandas as pd\n",
    "import numpy as np\n",
    "import sqldf\n",
    "import matplotlib.pyplot as plt\n",
    "from google.oauth2.service_account import Credentials"
   ]
  },
  {
   "cell_type": "code",
   "execution_count": 2,
   "id": "da561e52",
   "metadata": {},
   "outputs": [],
   "source": [
    "#подгружаем все и приводим всё в рабочий вид"
   ]
  },
  {
   "cell_type": "code",
   "execution_count": 3,
   "id": "51ad6351",
   "metadata": {},
   "outputs": [],
   "source": [
    "transactions = pd.read_csv (r\"C:\\Users\\nignatiev\\Desktop\\data-pari\\xlsx\\test\\transactions.csv\", sep=';')"
   ]
  },
  {
   "cell_type": "code",
   "execution_count": 4,
   "id": "a488fa2b",
   "metadata": {
    "scrolled": false
   },
   "outputs": [],
   "source": [
    "transactions['standard_cost'] = transactions['standard_cost'].str.replace('$', '', regex=False)"
   ]
  },
  {
   "cell_type": "code",
   "execution_count": 5,
   "id": "00dd8530",
   "metadata": {},
   "outputs": [],
   "source": [
    "customers = pd.read_csv (r\"C:\\Users\\nignatiev\\Desktop\\data-pari\\xlsx\\test\\customers.csv\", sep=';')"
   ]
  },
  {
   "cell_type": "code",
   "execution_count": 6,
   "id": "83ee993d",
   "metadata": {},
   "outputs": [],
   "source": [
    "customers['age'] = customers['age'].astype(int)"
   ]
  },
  {
   "cell_type": "code",
   "execution_count": 7,
   "id": "701bdb73",
   "metadata": {},
   "outputs": [],
   "source": [
    "transactions['transaction_date'] = pd.to_datetime(transactions['transaction_date'], infer_datetime_format=True)"
   ]
  },
  {
   "cell_type": "code",
   "execution_count": 8,
   "id": "f19ee453",
   "metadata": {},
   "outputs": [],
   "source": [
    "#выбираем нужные значения, фильтруем по условиям задачи, "
   ]
  },
  {
   "cell_type": "code",
   "execution_count": 9,
   "id": "05efac33",
   "metadata": {},
   "outputs": [],
   "source": [
    "query = \"\"\"\n",
    "SELECT transactions.customer_id,\n",
    "       transactions.standard_cost,\n",
    "       customers.age,\n",
    "       customers.owns_car,\n",
    "       DENSE_RANK() OVER (PARTITION BY transactions.customer_id ORDER BY transactions.brand) AS distinct_rank, -- подсчет уникальных товаров по айдишке\n",
    "       RANK() OVER (PARTITION BY transactions.customer_id ORDER BY transactions.transaction_date) AS purchases, -- была использована для подсчета покупок по дате транзакции, пригодится для поиска 4 покупки\n",
    "       transactions.transaction_date\n",
    "FROM transactions\n",
    "INNER JOIN customers ON transactions.customer_id = customers.customer_id\n",
    "WHERE order_status IS 'Approved' AND standard_cost IS NOT NULL\n",
    "ORDER BY transactions.customer_id, DENSE_RANK() OVER (PARTITION BY transactions.customer_id ORDER BY transactions.brand)\n",
    "\"\"\""
   ]
  },
  {
   "cell_type": "code",
   "execution_count": 10,
   "id": "5697dc7e",
   "metadata": {},
   "outputs": [],
   "source": [
    "df_view = sqldf.run(query)"
   ]
  },
  {
   "cell_type": "code",
   "execution_count": 11,
   "id": "a403f4ef",
   "metadata": {},
   "outputs": [
    {
     "data": {
      "text/html": [
       "<div>\n",
       "<style scoped>\n",
       "    .dataframe tbody tr th:only-of-type {\n",
       "        vertical-align: middle;\n",
       "    }\n",
       "\n",
       "    .dataframe tbody tr th {\n",
       "        vertical-align: top;\n",
       "    }\n",
       "\n",
       "    .dataframe thead th {\n",
       "        text-align: right;\n",
       "    }\n",
       "</style>\n",
       "<table border=\"1\" class=\"dataframe\">\n",
       "  <thead>\n",
       "    <tr style=\"text-align: right;\">\n",
       "      <th></th>\n",
       "      <th>customer_id</th>\n",
       "      <th>standard_cost</th>\n",
       "      <th>age</th>\n",
       "      <th>owns_car</th>\n",
       "      <th>distinct_rank</th>\n",
       "      <th>purchases</th>\n",
       "      <th>transaction_date</th>\n",
       "    </tr>\n",
       "  </thead>\n",
       "  <tbody>\n",
       "    <tr>\n",
       "      <th>0</th>\n",
       "      <td>1</td>\n",
       "      <td>764.96</td>\n",
       "      <td>69</td>\n",
       "      <td>Yes</td>\n",
       "      <td>1</td>\n",
       "      <td>4</td>\n",
       "      <td>2017-03-29 00:00:00</td>\n",
       "    </tr>\n",
       "    <tr>\n",
       "      <th>1</th>\n",
       "      <td>1</td>\n",
       "      <td>829.65</td>\n",
       "      <td>69</td>\n",
       "      <td>Yes</td>\n",
       "      <td>1</td>\n",
       "      <td>7</td>\n",
       "      <td>2017-05-19 00:00:00</td>\n",
       "    </tr>\n",
       "    <tr>\n",
       "      <th>2</th>\n",
       "      <td>1</td>\n",
       "      <td>211.37</td>\n",
       "      <td>69</td>\n",
       "      <td>Yes</td>\n",
       "      <td>1</td>\n",
       "      <td>8</td>\n",
       "      <td>2017-06-04 00:00:00</td>\n",
       "    </tr>\n",
       "    <tr>\n",
       "      <th>3</th>\n",
       "      <td>1</td>\n",
       "      <td>173.18</td>\n",
       "      <td>69</td>\n",
       "      <td>Yes</td>\n",
       "      <td>1</td>\n",
       "      <td>10</td>\n",
       "      <td>2017-12-14 00:00:00</td>\n",
       "    </tr>\n",
       "    <tr>\n",
       "      <th>4</th>\n",
       "      <td>1</td>\n",
       "      <td>270.30</td>\n",
       "      <td>69</td>\n",
       "      <td>Yes</td>\n",
       "      <td>2</td>\n",
       "      <td>1</td>\n",
       "      <td>2017-01-05 00:00:00</td>\n",
       "    </tr>\n",
       "    <tr>\n",
       "      <th>...</th>\n",
       "      <td>...</td>\n",
       "      <td>...</td>\n",
       "      <td>...</td>\n",
       "      <td>...</td>\n",
       "      <td>...</td>\n",
       "      <td>...</td>\n",
       "      <td>...</td>\n",
       "    </tr>\n",
       "    <tr>\n",
       "      <th>19609</th>\n",
       "      <td>3500</td>\n",
       "      <td>1167.18</td>\n",
       "      <td>55</td>\n",
       "      <td>No</td>\n",
       "      <td>1</td>\n",
       "      <td>6</td>\n",
       "      <td>2017-08-08 00:00:00</td>\n",
       "    </tr>\n",
       "    <tr>\n",
       "      <th>19610</th>\n",
       "      <td>3500</td>\n",
       "      <td>874.90</td>\n",
       "      <td>55</td>\n",
       "      <td>No</td>\n",
       "      <td>2</td>\n",
       "      <td>4</td>\n",
       "      <td>2017-03-14 00:00:00</td>\n",
       "    </tr>\n",
       "    <tr>\n",
       "      <th>19611</th>\n",
       "      <td>3500</td>\n",
       "      <td>53.62</td>\n",
       "      <td>55</td>\n",
       "      <td>No</td>\n",
       "      <td>3</td>\n",
       "      <td>5</td>\n",
       "      <td>2017-04-25 00:00:00</td>\n",
       "    </tr>\n",
       "    <tr>\n",
       "      <th>19612</th>\n",
       "      <td>3500</td>\n",
       "      <td>45.26</td>\n",
       "      <td>55</td>\n",
       "      <td>No</td>\n",
       "      <td>4</td>\n",
       "      <td>2</td>\n",
       "      <td>2017-01-11 00:00:00</td>\n",
       "    </tr>\n",
       "    <tr>\n",
       "      <th>19613</th>\n",
       "      <td>3500</td>\n",
       "      <td>400.91</td>\n",
       "      <td>55</td>\n",
       "      <td>No</td>\n",
       "      <td>4</td>\n",
       "      <td>3</td>\n",
       "      <td>2017-02-16 00:00:00</td>\n",
       "    </tr>\n",
       "  </tbody>\n",
       "</table>\n",
       "<p>19614 rows × 7 columns</p>\n",
       "</div>"
      ],
      "text/plain": [
       "       customer_id standard_cost  age owns_car  distinct_rank  purchases  \\\n",
       "0                1        764.96   69      Yes              1          4   \n",
       "1                1        829.65   69      Yes              1          7   \n",
       "2                1        211.37   69      Yes              1          8   \n",
       "3                1        173.18   69      Yes              1         10   \n",
       "4                1        270.30   69      Yes              2          1   \n",
       "...            ...           ...  ...      ...            ...        ...   \n",
       "19609         3500       1167.18   55       No              1          6   \n",
       "19610         3500        874.90   55       No              2          4   \n",
       "19611         3500         53.62   55       No              3          5   \n",
       "19612         3500         45.26   55       No              4          2   \n",
       "19613         3500        400.91   55       No              4          3   \n",
       "\n",
       "          transaction_date  \n",
       "0      2017-03-29 00:00:00  \n",
       "1      2017-05-19 00:00:00  \n",
       "2      2017-06-04 00:00:00  \n",
       "3      2017-12-14 00:00:00  \n",
       "4      2017-01-05 00:00:00  \n",
       "...                    ...  \n",
       "19609  2017-08-08 00:00:00  \n",
       "19610  2017-03-14 00:00:00  \n",
       "19611  2017-04-25 00:00:00  \n",
       "19612  2017-01-11 00:00:00  \n",
       "19613  2017-02-16 00:00:00  \n",
       "\n",
       "[19614 rows x 7 columns]"
      ]
     },
     "execution_count": 11,
     "metadata": {},
     "output_type": "execute_result"
    }
   ],
   "source": [
    "df_view"
   ]
  },
  {
   "cell_type": "code",
   "execution_count": 12,
   "id": "537acf3a",
   "metadata": {},
   "outputs": [],
   "source": [
    "df_view['standard_cost'] = pd.to_numeric(df_view['standard_cost'], downcast='float')"
   ]
  },
  {
   "cell_type": "code",
   "execution_count": 13,
   "id": "9c1afff9",
   "metadata": {},
   "outputs": [],
   "source": [
    "#подсчет общего ревенью"
   ]
  },
  {
   "cell_type": "code",
   "execution_count": 14,
   "id": "41326632",
   "metadata": {},
   "outputs": [],
   "source": [
    "revenue_all = df_view['standard_cost'].sum()"
   ]
  },
  {
   "cell_type": "code",
   "execution_count": 15,
   "id": "2c205385",
   "metadata": {},
   "outputs": [
    {
     "data": {
      "text/plain": [
       "10899468.0"
      ]
     },
     "execution_count": 15,
     "metadata": {},
     "output_type": "execute_result"
    }
   ],
   "source": [
    "revenue_all"
   ]
  },
  {
   "cell_type": "code",
   "execution_count": 16,
   "id": "e6272b3c",
   "metadata": {},
   "outputs": [],
   "source": [
    "#фильтры по условиям задачи — важный пользователь старше 25 и с машиной"
   ]
  },
  {
   "cell_type": "code",
   "execution_count": 17,
   "id": "96fb4173",
   "metadata": {},
   "outputs": [],
   "source": [
    "df_view_car = df_view.loc[(df_view['owns_car'] == 'Yes')]\n"
   ]
  },
  {
   "cell_type": "code",
   "execution_count": 18,
   "id": "802a5c9d",
   "metadata": {},
   "outputs": [],
   "source": [
    "df_view_filter = df_view_car.loc[(df_view['age'] > 25)]"
   ]
  },
  {
   "cell_type": "code",
   "execution_count": 19,
   "id": "463f20e8",
   "metadata": {},
   "outputs": [],
   "source": [
    "revenue_all_filter = df_view_filter['standard_cost'].sum()"
   ]
  },
  {
   "cell_type": "code",
   "execution_count": 20,
   "id": "29105de3",
   "metadata": {},
   "outputs": [],
   "source": [
    "#подсчет ревенью пользователей с фильтром"
   ]
  },
  {
   "cell_type": "code",
   "execution_count": 21,
   "id": "736a5c02",
   "metadata": {},
   "outputs": [
    {
     "data": {
      "text/plain": [
       "5189018.5"
      ]
     },
     "execution_count": 21,
     "metadata": {},
     "output_type": "execute_result"
    }
   ],
   "source": [
    "revenue_all_filter"
   ]
  },
  {
   "cell_type": "code",
   "execution_count": 22,
   "id": "b8d60f0d",
   "metadata": {},
   "outputs": [
    {
     "name": "stderr",
     "output_type": "stream",
     "text": [
      "C:\\Users\\nignatiev\\AppData\\Local\\Temp\\ipykernel_6736\\3188069430.py:1: SettingWithCopyWarning: \n",
      "A value is trying to be set on a copy of a slice from a DataFrame.\n",
      "Try using .loc[row_indexer,col_indexer] = value instead\n",
      "\n",
      "See the caveats in the documentation: https://pandas.pydata.org/pandas-docs/stable/user_guide/indexing.html#returning-a-view-versus-a-copy\n",
      "  df_view_filter.loc[:, 'unique_things'] = df_view_filter.groupby('customer_id')['distinct_rank'].transform('max')\n"
     ]
    }
   ],
   "source": [
    "df_view_filter.loc[:, 'unique_things'] = df_view_filter.groupby('customer_id')['distinct_rank'].transform('max')"
   ]
  },
  {
   "cell_type": "code",
   "execution_count": 23,
   "id": "775792a2",
   "metadata": {},
   "outputs": [
    {
     "data": {
      "text/html": [
       "<div>\n",
       "<style scoped>\n",
       "    .dataframe tbody tr th:only-of-type {\n",
       "        vertical-align: middle;\n",
       "    }\n",
       "\n",
       "    .dataframe tbody tr th {\n",
       "        vertical-align: top;\n",
       "    }\n",
       "\n",
       "    .dataframe thead th {\n",
       "        text-align: right;\n",
       "    }\n",
       "</style>\n",
       "<table border=\"1\" class=\"dataframe\">\n",
       "  <thead>\n",
       "    <tr style=\"text-align: right;\">\n",
       "      <th></th>\n",
       "      <th>customer_id</th>\n",
       "      <th>standard_cost</th>\n",
       "      <th>age</th>\n",
       "      <th>owns_car</th>\n",
       "      <th>distinct_rank</th>\n",
       "      <th>purchases</th>\n",
       "      <th>transaction_date</th>\n",
       "      <th>unique_things</th>\n",
       "    </tr>\n",
       "  </thead>\n",
       "  <tbody>\n",
       "    <tr>\n",
       "      <th>0</th>\n",
       "      <td>1</td>\n",
       "      <td>764.960022</td>\n",
       "      <td>69</td>\n",
       "      <td>Yes</td>\n",
       "      <td>1</td>\n",
       "      <td>4</td>\n",
       "      <td>2017-03-29 00:00:00</td>\n",
       "      <td>5</td>\n",
       "    </tr>\n",
       "    <tr>\n",
       "      <th>1</th>\n",
       "      <td>1</td>\n",
       "      <td>829.650024</td>\n",
       "      <td>69</td>\n",
       "      <td>Yes</td>\n",
       "      <td>1</td>\n",
       "      <td>7</td>\n",
       "      <td>2017-05-19 00:00:00</td>\n",
       "      <td>5</td>\n",
       "    </tr>\n",
       "    <tr>\n",
       "      <th>2</th>\n",
       "      <td>1</td>\n",
       "      <td>211.369995</td>\n",
       "      <td>69</td>\n",
       "      <td>Yes</td>\n",
       "      <td>1</td>\n",
       "      <td>8</td>\n",
       "      <td>2017-06-04 00:00:00</td>\n",
       "      <td>5</td>\n",
       "    </tr>\n",
       "    <tr>\n",
       "      <th>3</th>\n",
       "      <td>1</td>\n",
       "      <td>173.179993</td>\n",
       "      <td>69</td>\n",
       "      <td>Yes</td>\n",
       "      <td>1</td>\n",
       "      <td>10</td>\n",
       "      <td>2017-12-14 00:00:00</td>\n",
       "      <td>5</td>\n",
       "    </tr>\n",
       "    <tr>\n",
       "      <th>4</th>\n",
       "      <td>1</td>\n",
       "      <td>270.299988</td>\n",
       "      <td>69</td>\n",
       "      <td>Yes</td>\n",
       "      <td>2</td>\n",
       "      <td>1</td>\n",
       "      <td>2017-01-05 00:00:00</td>\n",
       "      <td>5</td>\n",
       "    </tr>\n",
       "    <tr>\n",
       "      <th>...</th>\n",
       "      <td>...</td>\n",
       "      <td>...</td>\n",
       "      <td>...</td>\n",
       "      <td>...</td>\n",
       "      <td>...</td>\n",
       "      <td>...</td>\n",
       "      <td>...</td>\n",
       "      <td>...</td>\n",
       "    </tr>\n",
       "    <tr>\n",
       "      <th>19603</th>\n",
       "      <td>3499</td>\n",
       "      <td>376.839996</td>\n",
       "      <td>43</td>\n",
       "      <td>Yes</td>\n",
       "      <td>2</td>\n",
       "      <td>7</td>\n",
       "      <td>2017-11-09 00:00:00</td>\n",
       "      <td>4</td>\n",
       "    </tr>\n",
       "    <tr>\n",
       "      <th>19604</th>\n",
       "      <td>3499</td>\n",
       "      <td>298.720001</td>\n",
       "      <td>43</td>\n",
       "      <td>Yes</td>\n",
       "      <td>3</td>\n",
       "      <td>1</td>\n",
       "      <td>2017-01-12 00:00:00</td>\n",
       "      <td>4</td>\n",
       "    </tr>\n",
       "    <tr>\n",
       "      <th>19605</th>\n",
       "      <td>3499</td>\n",
       "      <td>507.579987</td>\n",
       "      <td>43</td>\n",
       "      <td>Yes</td>\n",
       "      <td>3</td>\n",
       "      <td>4</td>\n",
       "      <td>2017-04-25 00:00:00</td>\n",
       "      <td>4</td>\n",
       "    </tr>\n",
       "    <tr>\n",
       "      <th>19606</th>\n",
       "      <td>3499</td>\n",
       "      <td>108.760002</td>\n",
       "      <td>43</td>\n",
       "      <td>Yes</td>\n",
       "      <td>4</td>\n",
       "      <td>2</td>\n",
       "      <td>2017-02-25 00:00:00</td>\n",
       "      <td>4</td>\n",
       "    </tr>\n",
       "    <tr>\n",
       "      <th>19607</th>\n",
       "      <td>3499</td>\n",
       "      <td>260.140015</td>\n",
       "      <td>43</td>\n",
       "      <td>Yes</td>\n",
       "      <td>4</td>\n",
       "      <td>3</td>\n",
       "      <td>2017-03-01 00:00:00</td>\n",
       "      <td>4</td>\n",
       "    </tr>\n",
       "  </tbody>\n",
       "</table>\n",
       "<p>9245 rows × 8 columns</p>\n",
       "</div>"
      ],
      "text/plain": [
       "       customer_id  standard_cost  age owns_car  distinct_rank  purchases  \\\n",
       "0                1     764.960022   69      Yes              1          4   \n",
       "1                1     829.650024   69      Yes              1          7   \n",
       "2                1     211.369995   69      Yes              1          8   \n",
       "3                1     173.179993   69      Yes              1         10   \n",
       "4                1     270.299988   69      Yes              2          1   \n",
       "...            ...            ...  ...      ...            ...        ...   \n",
       "19603         3499     376.839996   43      Yes              2          7   \n",
       "19604         3499     298.720001   43      Yes              3          1   \n",
       "19605         3499     507.579987   43      Yes              3          4   \n",
       "19606         3499     108.760002   43      Yes              4          2   \n",
       "19607         3499     260.140015   43      Yes              4          3   \n",
       "\n",
       "          transaction_date  unique_things  \n",
       "0      2017-03-29 00:00:00              5  \n",
       "1      2017-05-19 00:00:00              5  \n",
       "2      2017-06-04 00:00:00              5  \n",
       "3      2017-12-14 00:00:00              5  \n",
       "4      2017-01-05 00:00:00              5  \n",
       "...                    ...            ...  \n",
       "19603  2017-11-09 00:00:00              4  \n",
       "19604  2017-01-12 00:00:00              4  \n",
       "19605  2017-04-25 00:00:00              4  \n",
       "19606  2017-02-25 00:00:00              4  \n",
       "19607  2017-03-01 00:00:00              4  \n",
       "\n",
       "[9245 rows x 8 columns]"
      ]
     },
     "execution_count": 23,
     "metadata": {},
     "output_type": "execute_result"
    }
   ],
   "source": [
    "df_view_filter"
   ]
  },
  {
   "cell_type": "code",
   "execution_count": 24,
   "id": "c58ec1ee",
   "metadata": {},
   "outputs": [],
   "source": [
    "#подсчет уникальных товаров у важных клиентов"
   ]
  },
  {
   "cell_type": "code",
   "execution_count": 25,
   "id": "a92e17a0",
   "metadata": {},
   "outputs": [],
   "source": [
    "df_view_unique = df_view_filter[['customer_id','unique_things']].copy()"
   ]
  },
  {
   "cell_type": "code",
   "execution_count": 26,
   "id": "29383846",
   "metadata": {},
   "outputs": [
    {
     "data": {
      "text/html": [
       "<div>\n",
       "<style scoped>\n",
       "    .dataframe tbody tr th:only-of-type {\n",
       "        vertical-align: middle;\n",
       "    }\n",
       "\n",
       "    .dataframe tbody tr th {\n",
       "        vertical-align: top;\n",
       "    }\n",
       "\n",
       "    .dataframe thead th {\n",
       "        text-align: right;\n",
       "    }\n",
       "</style>\n",
       "<table border=\"1\" class=\"dataframe\">\n",
       "  <thead>\n",
       "    <tr style=\"text-align: right;\">\n",
       "      <th></th>\n",
       "      <th>customer_id</th>\n",
       "      <th>unique_things</th>\n",
       "    </tr>\n",
       "  </thead>\n",
       "  <tbody>\n",
       "    <tr>\n",
       "      <th>0</th>\n",
       "      <td>1</td>\n",
       "      <td>5</td>\n",
       "    </tr>\n",
       "    <tr>\n",
       "      <th>1</th>\n",
       "      <td>1</td>\n",
       "      <td>5</td>\n",
       "    </tr>\n",
       "    <tr>\n",
       "      <th>2</th>\n",
       "      <td>1</td>\n",
       "      <td>5</td>\n",
       "    </tr>\n",
       "    <tr>\n",
       "      <th>3</th>\n",
       "      <td>1</td>\n",
       "      <td>5</td>\n",
       "    </tr>\n",
       "    <tr>\n",
       "      <th>4</th>\n",
       "      <td>1</td>\n",
       "      <td>5</td>\n",
       "    </tr>\n",
       "    <tr>\n",
       "      <th>...</th>\n",
       "      <td>...</td>\n",
       "      <td>...</td>\n",
       "    </tr>\n",
       "    <tr>\n",
       "      <th>19603</th>\n",
       "      <td>3499</td>\n",
       "      <td>4</td>\n",
       "    </tr>\n",
       "    <tr>\n",
       "      <th>19604</th>\n",
       "      <td>3499</td>\n",
       "      <td>4</td>\n",
       "    </tr>\n",
       "    <tr>\n",
       "      <th>19605</th>\n",
       "      <td>3499</td>\n",
       "      <td>4</td>\n",
       "    </tr>\n",
       "    <tr>\n",
       "      <th>19606</th>\n",
       "      <td>3499</td>\n",
       "      <td>4</td>\n",
       "    </tr>\n",
       "    <tr>\n",
       "      <th>19607</th>\n",
       "      <td>3499</td>\n",
       "      <td>4</td>\n",
       "    </tr>\n",
       "  </tbody>\n",
       "</table>\n",
       "<p>9245 rows × 2 columns</p>\n",
       "</div>"
      ],
      "text/plain": [
       "       customer_id  unique_things\n",
       "0                1              5\n",
       "1                1              5\n",
       "2                1              5\n",
       "3                1              5\n",
       "4                1              5\n",
       "...            ...            ...\n",
       "19603         3499              4\n",
       "19604         3499              4\n",
       "19605         3499              4\n",
       "19606         3499              4\n",
       "19607         3499              4\n",
       "\n",
       "[9245 rows x 2 columns]"
      ]
     },
     "execution_count": 26,
     "metadata": {},
     "output_type": "execute_result"
    }
   ],
   "source": [
    "df_view_unique"
   ]
  },
  {
   "cell_type": "code",
   "execution_count": 27,
   "id": "61527a98",
   "metadata": {},
   "outputs": [],
   "source": [
    "df_view_unique = df_view_unique.drop_duplicates(['customer_id', 'unique_things'])"
   ]
  },
  {
   "cell_type": "code",
   "execution_count": 28,
   "id": "9a728efb",
   "metadata": {},
   "outputs": [],
   "source": [
    "df_view_unique_things_mean = df_view_unique['unique_things'].mean()"
   ]
  },
  {
   "cell_type": "code",
   "execution_count": 29,
   "id": "e7d946a4",
   "metadata": {},
   "outputs": [
    {
     "data": {
      "text/plain": [
       "3.62969696969697"
      ]
     },
     "execution_count": 29,
     "metadata": {},
     "output_type": "execute_result"
    }
   ],
   "source": [
    "df_view_unique_things_mean"
   ]
  },
  {
   "cell_type": "code",
   "execution_count": 30,
   "id": "b5d3340a",
   "metadata": {},
   "outputs": [],
   "source": [
    "#подсчет уникальных товаров"
   ]
  },
  {
   "cell_type": "code",
   "execution_count": 31,
   "id": "f1f231d3",
   "metadata": {},
   "outputs": [],
   "source": [
    "df_view['unique_things'] = df_view \\\n",
    "    .groupby('customer_id')['distinct_rank'].transform('max')"
   ]
  },
  {
   "cell_type": "code",
   "execution_count": 32,
   "id": "408145dc",
   "metadata": {},
   "outputs": [
    {
     "data": {
      "text/html": [
       "<div>\n",
       "<style scoped>\n",
       "    .dataframe tbody tr th:only-of-type {\n",
       "        vertical-align: middle;\n",
       "    }\n",
       "\n",
       "    .dataframe tbody tr th {\n",
       "        vertical-align: top;\n",
       "    }\n",
       "\n",
       "    .dataframe thead th {\n",
       "        text-align: right;\n",
       "    }\n",
       "</style>\n",
       "<table border=\"1\" class=\"dataframe\">\n",
       "  <thead>\n",
       "    <tr style=\"text-align: right;\">\n",
       "      <th></th>\n",
       "      <th>customer_id</th>\n",
       "      <th>standard_cost</th>\n",
       "      <th>age</th>\n",
       "      <th>owns_car</th>\n",
       "      <th>distinct_rank</th>\n",
       "      <th>purchases</th>\n",
       "      <th>transaction_date</th>\n",
       "      <th>unique_things</th>\n",
       "    </tr>\n",
       "  </thead>\n",
       "  <tbody>\n",
       "    <tr>\n",
       "      <th>0</th>\n",
       "      <td>1</td>\n",
       "      <td>764.960022</td>\n",
       "      <td>69</td>\n",
       "      <td>Yes</td>\n",
       "      <td>1</td>\n",
       "      <td>4</td>\n",
       "      <td>2017-03-29 00:00:00</td>\n",
       "      <td>5</td>\n",
       "    </tr>\n",
       "    <tr>\n",
       "      <th>1</th>\n",
       "      <td>1</td>\n",
       "      <td>829.650024</td>\n",
       "      <td>69</td>\n",
       "      <td>Yes</td>\n",
       "      <td>1</td>\n",
       "      <td>7</td>\n",
       "      <td>2017-05-19 00:00:00</td>\n",
       "      <td>5</td>\n",
       "    </tr>\n",
       "    <tr>\n",
       "      <th>2</th>\n",
       "      <td>1</td>\n",
       "      <td>211.369995</td>\n",
       "      <td>69</td>\n",
       "      <td>Yes</td>\n",
       "      <td>1</td>\n",
       "      <td>8</td>\n",
       "      <td>2017-06-04 00:00:00</td>\n",
       "      <td>5</td>\n",
       "    </tr>\n",
       "    <tr>\n",
       "      <th>3</th>\n",
       "      <td>1</td>\n",
       "      <td>173.179993</td>\n",
       "      <td>69</td>\n",
       "      <td>Yes</td>\n",
       "      <td>1</td>\n",
       "      <td>10</td>\n",
       "      <td>2017-12-14 00:00:00</td>\n",
       "      <td>5</td>\n",
       "    </tr>\n",
       "    <tr>\n",
       "      <th>4</th>\n",
       "      <td>1</td>\n",
       "      <td>270.299988</td>\n",
       "      <td>69</td>\n",
       "      <td>Yes</td>\n",
       "      <td>2</td>\n",
       "      <td>1</td>\n",
       "      <td>2017-01-05 00:00:00</td>\n",
       "      <td>5</td>\n",
       "    </tr>\n",
       "    <tr>\n",
       "      <th>...</th>\n",
       "      <td>...</td>\n",
       "      <td>...</td>\n",
       "      <td>...</td>\n",
       "      <td>...</td>\n",
       "      <td>...</td>\n",
       "      <td>...</td>\n",
       "      <td>...</td>\n",
       "      <td>...</td>\n",
       "    </tr>\n",
       "    <tr>\n",
       "      <th>19609</th>\n",
       "      <td>3500</td>\n",
       "      <td>1167.180054</td>\n",
       "      <td>55</td>\n",
       "      <td>No</td>\n",
       "      <td>1</td>\n",
       "      <td>6</td>\n",
       "      <td>2017-08-08 00:00:00</td>\n",
       "      <td>4</td>\n",
       "    </tr>\n",
       "    <tr>\n",
       "      <th>19610</th>\n",
       "      <td>3500</td>\n",
       "      <td>874.900024</td>\n",
       "      <td>55</td>\n",
       "      <td>No</td>\n",
       "      <td>2</td>\n",
       "      <td>4</td>\n",
       "      <td>2017-03-14 00:00:00</td>\n",
       "      <td>4</td>\n",
       "    </tr>\n",
       "    <tr>\n",
       "      <th>19611</th>\n",
       "      <td>3500</td>\n",
       "      <td>53.619999</td>\n",
       "      <td>55</td>\n",
       "      <td>No</td>\n",
       "      <td>3</td>\n",
       "      <td>5</td>\n",
       "      <td>2017-04-25 00:00:00</td>\n",
       "      <td>4</td>\n",
       "    </tr>\n",
       "    <tr>\n",
       "      <th>19612</th>\n",
       "      <td>3500</td>\n",
       "      <td>45.259998</td>\n",
       "      <td>55</td>\n",
       "      <td>No</td>\n",
       "      <td>4</td>\n",
       "      <td>2</td>\n",
       "      <td>2017-01-11 00:00:00</td>\n",
       "      <td>4</td>\n",
       "    </tr>\n",
       "    <tr>\n",
       "      <th>19613</th>\n",
       "      <td>3500</td>\n",
       "      <td>400.910004</td>\n",
       "      <td>55</td>\n",
       "      <td>No</td>\n",
       "      <td>4</td>\n",
       "      <td>3</td>\n",
       "      <td>2017-02-16 00:00:00</td>\n",
       "      <td>4</td>\n",
       "    </tr>\n",
       "  </tbody>\n",
       "</table>\n",
       "<p>19614 rows × 8 columns</p>\n",
       "</div>"
      ],
      "text/plain": [
       "       customer_id  standard_cost  age owns_car  distinct_rank  purchases  \\\n",
       "0                1     764.960022   69      Yes              1          4   \n",
       "1                1     829.650024   69      Yes              1          7   \n",
       "2                1     211.369995   69      Yes              1          8   \n",
       "3                1     173.179993   69      Yes              1         10   \n",
       "4                1     270.299988   69      Yes              2          1   \n",
       "...            ...            ...  ...      ...            ...        ...   \n",
       "19609         3500    1167.180054   55       No              1          6   \n",
       "19610         3500     874.900024   55       No              2          4   \n",
       "19611         3500      53.619999   55       No              3          5   \n",
       "19612         3500      45.259998   55       No              4          2   \n",
       "19613         3500     400.910004   55       No              4          3   \n",
       "\n",
       "          transaction_date  unique_things  \n",
       "0      2017-03-29 00:00:00              5  \n",
       "1      2017-05-19 00:00:00              5  \n",
       "2      2017-06-04 00:00:00              5  \n",
       "3      2017-12-14 00:00:00              5  \n",
       "4      2017-01-05 00:00:00              5  \n",
       "...                    ...            ...  \n",
       "19609  2017-08-08 00:00:00              4  \n",
       "19610  2017-03-14 00:00:00              4  \n",
       "19611  2017-04-25 00:00:00              4  \n",
       "19612  2017-01-11 00:00:00              4  \n",
       "19613  2017-02-16 00:00:00              4  \n",
       "\n",
       "[19614 rows x 8 columns]"
      ]
     },
     "execution_count": 32,
     "metadata": {},
     "output_type": "execute_result"
    }
   ],
   "source": [
    "df_view"
   ]
  },
  {
   "cell_type": "code",
   "execution_count": 33,
   "id": "41c8f372",
   "metadata": {},
   "outputs": [],
   "source": [
    "#выбор \"не-важных\" пользователей — без машины и меньше либо равно 25 годам"
   ]
  },
  {
   "cell_type": "code",
   "execution_count": 34,
   "id": "97f356e8",
   "metadata": {},
   "outputs": [],
   "source": [
    "df_view_no_car = df_view.loc[(df_view['owns_car'] == 'No')]"
   ]
  },
  {
   "cell_type": "code",
   "execution_count": 35,
   "id": "44980a9b",
   "metadata": {},
   "outputs": [],
   "source": [
    "df_view_other_users = df_view_no_car.loc[(df_view_no_car['age'] <= 25)]"
   ]
  },
  {
   "cell_type": "code",
   "execution_count": 36,
   "id": "f445a0a5",
   "metadata": {},
   "outputs": [],
   "source": [
    "##подсчет уникальных товаров у не-важных клиентов"
   ]
  },
  {
   "cell_type": "code",
   "execution_count": 37,
   "id": "d536ad93",
   "metadata": {},
   "outputs": [],
   "source": [
    "df_view_non_unique = df_view_other_users[['customer_id','unique_things']].copy()"
   ]
  },
  {
   "cell_type": "code",
   "execution_count": 38,
   "id": "f6cedc18",
   "metadata": {},
   "outputs": [],
   "source": [
    "df_view_non_unique_things_mean = df_view_non_unique['unique_things'].mean()"
   ]
  },
  {
   "cell_type": "code",
   "execution_count": 39,
   "id": "657fa9b1",
   "metadata": {},
   "outputs": [
    {
     "data": {
      "text/plain": [
       "4.037764350453172"
      ]
     },
     "execution_count": 39,
     "metadata": {},
     "output_type": "execute_result"
    }
   ],
   "source": [
    "df_view_non_unique_things_mean"
   ]
  },
  {
   "cell_type": "code",
   "execution_count": 40,
   "id": "cbefd698",
   "metadata": {},
   "outputs": [],
   "source": [
    "query = \"\"\"\n",
    "SELECT *\n",
    "FROM df_view_filter\n",
    "\"\"\""
   ]
  },
  {
   "cell_type": "code",
   "execution_count": 41,
   "id": "b5f44eea",
   "metadata": {},
   "outputs": [],
   "source": [
    "df_view = sqldf.run(query)"
   ]
  },
  {
   "cell_type": "code",
   "execution_count": 42,
   "id": "65321e8f",
   "metadata": {},
   "outputs": [],
   "source": [
    "#работа над поиском 1 или 4-ой покупки для последующего поиска 4 покупки"
   ]
  },
  {
   "cell_type": "code",
   "execution_count": 43,
   "id": "0e09c037",
   "metadata": {},
   "outputs": [],
   "source": [
    "df_view_filter_4_purchase = df_view_filter.loc[(df_view_filter['purchases'] == 1) | (df_view_filter['purchases'] == 4)]"
   ]
  },
  {
   "cell_type": "code",
   "execution_count": 44,
   "id": "e9514ac8",
   "metadata": {},
   "outputs": [
    {
     "data": {
      "text/html": [
       "<div>\n",
       "<style scoped>\n",
       "    .dataframe tbody tr th:only-of-type {\n",
       "        vertical-align: middle;\n",
       "    }\n",
       "\n",
       "    .dataframe tbody tr th {\n",
       "        vertical-align: top;\n",
       "    }\n",
       "\n",
       "    .dataframe thead th {\n",
       "        text-align: right;\n",
       "    }\n",
       "</style>\n",
       "<table border=\"1\" class=\"dataframe\">\n",
       "  <thead>\n",
       "    <tr style=\"text-align: right;\">\n",
       "      <th></th>\n",
       "      <th>customer_id</th>\n",
       "      <th>standard_cost</th>\n",
       "      <th>age</th>\n",
       "      <th>owns_car</th>\n",
       "      <th>distinct_rank</th>\n",
       "      <th>purchases</th>\n",
       "      <th>transaction_date</th>\n",
       "      <th>unique_things</th>\n",
       "    </tr>\n",
       "  </thead>\n",
       "  <tbody>\n",
       "    <tr>\n",
       "      <th>0</th>\n",
       "      <td>1</td>\n",
       "      <td>764.960022</td>\n",
       "      <td>69</td>\n",
       "      <td>Yes</td>\n",
       "      <td>1</td>\n",
       "      <td>4</td>\n",
       "      <td>2017-03-29 00:00:00</td>\n",
       "      <td>5</td>\n",
       "    </tr>\n",
       "    <tr>\n",
       "      <th>4</th>\n",
       "      <td>1</td>\n",
       "      <td>270.299988</td>\n",
       "      <td>69</td>\n",
       "      <td>Yes</td>\n",
       "      <td>2</td>\n",
       "      <td>1</td>\n",
       "      <td>2017-01-05 00:00:00</td>\n",
       "      <td>5</td>\n",
       "    </tr>\n",
       "    <tr>\n",
       "      <th>11</th>\n",
       "      <td>2</td>\n",
       "      <td>954.820007</td>\n",
       "      <td>42</td>\n",
       "      <td>Yes</td>\n",
       "      <td>1</td>\n",
       "      <td>1</td>\n",
       "      <td>2017-05-04 00:00:00</td>\n",
       "      <td>2</td>\n",
       "    </tr>\n",
       "    <tr>\n",
       "      <th>14</th>\n",
       "      <td>3</td>\n",
       "      <td>1167.180054</td>\n",
       "      <td>69</td>\n",
       "      <td>Yes</td>\n",
       "      <td>1</td>\n",
       "      <td>1</td>\n",
       "      <td>2017-02-23 00:00:00</td>\n",
       "      <td>3</td>\n",
       "    </tr>\n",
       "    <tr>\n",
       "      <th>19</th>\n",
       "      <td>3</td>\n",
       "      <td>598.760010</td>\n",
       "      <td>69</td>\n",
       "      <td>Yes</td>\n",
       "      <td>3</td>\n",
       "      <td>4</td>\n",
       "      <td>2017-04-21 00:00:00</td>\n",
       "      <td>3</td>\n",
       "    </tr>\n",
       "    <tr>\n",
       "      <th>...</th>\n",
       "      <td>...</td>\n",
       "      <td>...</td>\n",
       "      <td>...</td>\n",
       "      <td>...</td>\n",
       "      <td>...</td>\n",
       "      <td>...</td>\n",
       "      <td>...</td>\n",
       "      <td>...</td>\n",
       "    </tr>\n",
       "    <tr>\n",
       "      <th>19590</th>\n",
       "      <td>3496</td>\n",
       "      <td>333.179993</td>\n",
       "      <td>37</td>\n",
       "      <td>Yes</td>\n",
       "      <td>2</td>\n",
       "      <td>4</td>\n",
       "      <td>2017-04-18 00:00:00</td>\n",
       "      <td>3</td>\n",
       "    </tr>\n",
       "    <tr>\n",
       "      <th>19591</th>\n",
       "      <td>3496</td>\n",
       "      <td>459.709991</td>\n",
       "      <td>37</td>\n",
       "      <td>Yes</td>\n",
       "      <td>3</td>\n",
       "      <td>1</td>\n",
       "      <td>2017-03-07 00:00:00</td>\n",
       "      <td>3</td>\n",
       "    </tr>\n",
       "    <tr>\n",
       "      <th>19594</th>\n",
       "      <td>3497</td>\n",
       "      <td>431.450012</td>\n",
       "      <td>37</td>\n",
       "      <td>Yes</td>\n",
       "      <td>2</td>\n",
       "      <td>1</td>\n",
       "      <td>2017-09-01 00:00:00</td>\n",
       "      <td>2</td>\n",
       "    </tr>\n",
       "    <tr>\n",
       "      <th>19604</th>\n",
       "      <td>3499</td>\n",
       "      <td>298.720001</td>\n",
       "      <td>43</td>\n",
       "      <td>Yes</td>\n",
       "      <td>3</td>\n",
       "      <td>1</td>\n",
       "      <td>2017-01-12 00:00:00</td>\n",
       "      <td>4</td>\n",
       "    </tr>\n",
       "    <tr>\n",
       "      <th>19605</th>\n",
       "      <td>3499</td>\n",
       "      <td>507.579987</td>\n",
       "      <td>43</td>\n",
       "      <td>Yes</td>\n",
       "      <td>3</td>\n",
       "      <td>4</td>\n",
       "      <td>2017-04-25 00:00:00</td>\n",
       "      <td>4</td>\n",
       "    </tr>\n",
       "  </tbody>\n",
       "</table>\n",
       "<p>3004 rows × 8 columns</p>\n",
       "</div>"
      ],
      "text/plain": [
       "       customer_id  standard_cost  age owns_car  distinct_rank  purchases  \\\n",
       "0                1     764.960022   69      Yes              1          4   \n",
       "4                1     270.299988   69      Yes              2          1   \n",
       "11               2     954.820007   42      Yes              1          1   \n",
       "14               3    1167.180054   69      Yes              1          1   \n",
       "19               3     598.760010   69      Yes              3          4   \n",
       "...            ...            ...  ...      ...            ...        ...   \n",
       "19590         3496     333.179993   37      Yes              2          4   \n",
       "19591         3496     459.709991   37      Yes              3          1   \n",
       "19594         3497     431.450012   37      Yes              2          1   \n",
       "19604         3499     298.720001   43      Yes              3          1   \n",
       "19605         3499     507.579987   43      Yes              3          4   \n",
       "\n",
       "          transaction_date  unique_things  \n",
       "0      2017-03-29 00:00:00              5  \n",
       "4      2017-01-05 00:00:00              5  \n",
       "11     2017-05-04 00:00:00              2  \n",
       "14     2017-02-23 00:00:00              3  \n",
       "19     2017-04-21 00:00:00              3  \n",
       "...                    ...            ...  \n",
       "19590  2017-04-18 00:00:00              3  \n",
       "19591  2017-03-07 00:00:00              3  \n",
       "19594  2017-09-01 00:00:00              2  \n",
       "19604  2017-01-12 00:00:00              4  \n",
       "19605  2017-04-25 00:00:00              4  \n",
       "\n",
       "[3004 rows x 8 columns]"
      ]
     },
     "execution_count": 44,
     "metadata": {},
     "output_type": "execute_result"
    }
   ],
   "source": [
    "df_view_filter_4_purchase"
   ]
  },
  {
   "cell_type": "code",
   "execution_count": 45,
   "id": "e0499aa0",
   "metadata": {},
   "outputs": [],
   "source": [
    "#с помощью SQL-скрипта ищу "
   ]
  },
  {
   "cell_type": "code",
   "execution_count": 46,
   "id": "8f7e6d9f",
   "metadata": {},
   "outputs": [],
   "source": [
    "query = \"\"\"\n",
    "SELECT \n",
    "    DISTINCT(customer_id), \n",
    "    MAX(transaction_date) OVER(partition by customer_id) AS max_date, \n",
    "    MIN(transaction_date) OVER(partition by customer_id) AS min_date\n",
    "FROM df_view_filter_4_purchase\n",
    "WHERE customer_id IN \n",
    "     (SELECT\n",
    "     customer_id\n",
    "     FROM df_view_filter_4_purchase\n",
    "     WHERE purchases = 4)\n",
    "\"\"\""
   ]
  },
  {
   "cell_type": "code",
   "execution_count": 47,
   "id": "0bd2e05f",
   "metadata": {},
   "outputs": [],
   "source": [
    "df_view = sqldf.run(query)"
   ]
  },
  {
   "cell_type": "code",
   "execution_count": 48,
   "id": "5b6ae75b",
   "metadata": {},
   "outputs": [
    {
     "data": {
      "text/html": [
       "<div>\n",
       "<style scoped>\n",
       "    .dataframe tbody tr th:only-of-type {\n",
       "        vertical-align: middle;\n",
       "    }\n",
       "\n",
       "    .dataframe tbody tr th {\n",
       "        vertical-align: top;\n",
       "    }\n",
       "\n",
       "    .dataframe thead th {\n",
       "        text-align: right;\n",
       "    }\n",
       "</style>\n",
       "<table border=\"1\" class=\"dataframe\">\n",
       "  <thead>\n",
       "    <tr style=\"text-align: right;\">\n",
       "      <th></th>\n",
       "      <th>customer_id</th>\n",
       "      <th>max_date</th>\n",
       "      <th>min_date</th>\n",
       "    </tr>\n",
       "  </thead>\n",
       "  <tbody>\n",
       "    <tr>\n",
       "      <th>0</th>\n",
       "      <td>1</td>\n",
       "      <td>2017-03-29 00:00:00</td>\n",
       "      <td>2017-01-05 00:00:00</td>\n",
       "    </tr>\n",
       "    <tr>\n",
       "      <th>1</th>\n",
       "      <td>3</td>\n",
       "      <td>2017-04-21 00:00:00</td>\n",
       "      <td>2017-02-23 00:00:00</td>\n",
       "    </tr>\n",
       "    <tr>\n",
       "      <th>2</th>\n",
       "      <td>5</td>\n",
       "      <td>2017-05-26 00:00:00</td>\n",
       "      <td>2017-03-03 00:00:00</td>\n",
       "    </tr>\n",
       "    <tr>\n",
       "      <th>3</th>\n",
       "      <td>6</td>\n",
       "      <td>2017-09-16 00:00:00</td>\n",
       "      <td>2017-01-28 00:00:00</td>\n",
       "    </tr>\n",
       "    <tr>\n",
       "      <th>4</th>\n",
       "      <td>9</td>\n",
       "      <td>2017-08-20 00:00:00</td>\n",
       "      <td>2017-02-04 00:00:00</td>\n",
       "    </tr>\n",
       "    <tr>\n",
       "      <th>...</th>\n",
       "      <td>...</td>\n",
       "      <td>...</td>\n",
       "      <td>...</td>\n",
       "    </tr>\n",
       "    <tr>\n",
       "      <th>1329</th>\n",
       "      <td>3483</td>\n",
       "      <td>2017-04-01 00:00:00</td>\n",
       "      <td>2017-01-03 00:00:00</td>\n",
       "    </tr>\n",
       "    <tr>\n",
       "      <th>1330</th>\n",
       "      <td>3484</td>\n",
       "      <td>2017-06-20 00:00:00</td>\n",
       "      <td>2017-02-18 00:00:00</td>\n",
       "    </tr>\n",
       "    <tr>\n",
       "      <th>1331</th>\n",
       "      <td>3489</td>\n",
       "      <td>2017-04-07 00:00:00</td>\n",
       "      <td>2017-01-26 00:00:00</td>\n",
       "    </tr>\n",
       "    <tr>\n",
       "      <th>1332</th>\n",
       "      <td>3496</td>\n",
       "      <td>2017-04-18 00:00:00</td>\n",
       "      <td>2017-03-07 00:00:00</td>\n",
       "    </tr>\n",
       "    <tr>\n",
       "      <th>1333</th>\n",
       "      <td>3499</td>\n",
       "      <td>2017-04-25 00:00:00</td>\n",
       "      <td>2017-01-12 00:00:00</td>\n",
       "    </tr>\n",
       "  </tbody>\n",
       "</table>\n",
       "<p>1334 rows × 3 columns</p>\n",
       "</div>"
      ],
      "text/plain": [
       "      customer_id             max_date             min_date\n",
       "0               1  2017-03-29 00:00:00  2017-01-05 00:00:00\n",
       "1               3  2017-04-21 00:00:00  2017-02-23 00:00:00\n",
       "2               5  2017-05-26 00:00:00  2017-03-03 00:00:00\n",
       "3               6  2017-09-16 00:00:00  2017-01-28 00:00:00\n",
       "4               9  2017-08-20 00:00:00  2017-02-04 00:00:00\n",
       "...           ...                  ...                  ...\n",
       "1329         3483  2017-04-01 00:00:00  2017-01-03 00:00:00\n",
       "1330         3484  2017-06-20 00:00:00  2017-02-18 00:00:00\n",
       "1331         3489  2017-04-07 00:00:00  2017-01-26 00:00:00\n",
       "1332         3496  2017-04-18 00:00:00  2017-03-07 00:00:00\n",
       "1333         3499  2017-04-25 00:00:00  2017-01-12 00:00:00\n",
       "\n",
       "[1334 rows x 3 columns]"
      ]
     },
     "execution_count": 48,
     "metadata": {},
     "output_type": "execute_result"
    }
   ],
   "source": [
    "df_view"
   ]
  },
  {
   "cell_type": "code",
   "execution_count": 49,
   "id": "515f4ae4",
   "metadata": {},
   "outputs": [],
   "source": [
    "#перевод даты в перевариваевый формат + подсчет разницы между минимальной и максимальной датой в днях"
   ]
  },
  {
   "cell_type": "code",
   "execution_count": 50,
   "id": "81fb8d14",
   "metadata": {},
   "outputs": [],
   "source": [
    "df_view['max_date'] = pd.to_datetime(df_view['max_date'])\n",
    "df_view['min_date'] = pd.to_datetime(df_view['min_date'])"
   ]
  },
  {
   "cell_type": "code",
   "execution_count": 51,
   "id": "eb5da32e",
   "metadata": {},
   "outputs": [],
   "source": [
    "df_view['diff_days'] = (df_view['max_date'] - df_view['min_date']) / np.timedelta64 ( 1 , 'D')"
   ]
  },
  {
   "cell_type": "code",
   "execution_count": 52,
   "id": "43b35c45",
   "metadata": {},
   "outputs": [],
   "source": [
    "df_view_avg_4 = df_view['diff_days'].mean()"
   ]
  },
  {
   "cell_type": "code",
   "execution_count": 53,
   "id": "19d0157e",
   "metadata": {},
   "outputs": [
    {
     "data": {
      "text/plain": [
       "160.62668665667167"
      ]
     },
     "execution_count": 53,
     "metadata": {},
     "output_type": "execute_result"
    }
   ],
   "source": [
    "df_view_avg_4"
   ]
  },
  {
   "cell_type": "code",
   "execution_count": 54,
   "id": "ff0c1132",
   "metadata": {},
   "outputs": [
    {
     "data": {
      "text/plain": [
       "0        83.0\n",
       "1        57.0\n",
       "2        84.0\n",
       "3       231.0\n",
       "4       197.0\n",
       "        ...  \n",
       "1329     88.0\n",
       "1330    122.0\n",
       "1331     71.0\n",
       "1332     42.0\n",
       "1333    103.0\n",
       "Name: diff_days, Length: 1334, dtype: float64"
      ]
     },
     "execution_count": 54,
     "metadata": {},
     "output_type": "execute_result"
    }
   ],
   "source": [
    "df_view['diff_days']"
   ]
  },
  {
   "cell_type": "code",
   "execution_count": 55,
   "id": "bad07e75",
   "metadata": {},
   "outputs": [],
   "source": [
    "#тут графики, но не понимаю, почему гитхаб не переваривает первый график, так всё рабочее"
   ]
  },
  {
   "cell_type": "code",
   "execution_count": 56,
   "id": "b54bad32",
   "metadata": {},
   "outputs": [
    {
     "data": {
      "text/plain": [
       "Text(0, 0.5, 'Count')"
      ]
     },
     "execution_count": 56,
     "metadata": {},
     "output_type": "execute_result"
    },
    {
     "data": {
      "image/png": "[encoded data removed]",
      "text/plain": [
       "<Figure size 640x480 with 1 Axes>"
      ]
     },
     "metadata": {},
     "output_type": "display_data"
    }
   ],
   "source": [
    "plt.title('User average time to 4th buying')\n",
    "df_view['diff_days'].hist(bins = 20, edgecolor='black', color='paleturquoise')\n",
    "plt.xlabel(\"Day Difference\")\n",
    "plt.ylabel(\"Count\")"
   ]
  },
  {
   "cell_type": "code",
   "execution_count": 57,
   "id": "362c3370",
   "metadata": {},
   "outputs": [],
   "source": [
    "labels = ['Rest users','Users 25+ y.o. & have car']\n",
    "colors = ['thistle','paleturquoise']\n",
    "values = [revenue_all - revenue_all_filter, revenue_all_filter]\n",
    "explode = [0,0.1]"
   ]
  },
  {
   "cell_type": "code",
   "execution_count": 58,
   "id": "2eb0abe9",
   "metadata": {},
   "outputs": [
    {
     "data": {
      "text/plain": [
       "([<matplotlib.patches.Wedge at 0x1e7395280a0>,\n",
       "  <matplotlib.patches.Wedge at 0x1e7395287f0>],\n",
       " [Text(-0.08258380738378172, 1.0968955806082905, 'Rest users'),\n",
       "  Text(0.09009131420182365, -1.1966133690985523, 'Users 25+ y.o. & have car')],\n",
       " [Text(-0.045045713118426395, 0.5983066803317947, '52.4%'),\n",
       "  Text(0.05255326661773045, -0.6980244653074889, '47.6%')])"
      ]
     },
     "execution_count": 58,
     "metadata": {},
     "output_type": "execute_result"
    },
    {
     "data": {
      "image/png": "[encoded data removed]",
      "text/plain": [
       "<Figure size 640x480 with 1 Axes>"
      ]
     },
     "metadata": {},
     "output_type": "display_data"
    }
   ],
   "source": [
    "plt.title('Share in revenue')\n",
    "plt.pie(values, labels=labels, colors=colors, explode=explode, autopct='%1.1f%%', wedgeprops={'linewidth': 1, 'edgecolor': 'black'})"
   ]
  },
  {
   "cell_type": "code",
   "execution_count": 59,
   "id": "5170afa2",
   "metadata": {},
   "outputs": [],
   "source": [
    "labels_2 = ['Rest users','Users 25+ y.o. & have car']\n",
    "colors_2 = ['thistle','paleturquoise']\n",
    "values_2 = [round(df_view_non_unique_things_mean, 1), round(df_view_unique_things_mean, 1)]\n",
    "explode_2 = [0,0.1]"
   ]
  },
  {
   "cell_type": "code",
   "execution_count": 60,
   "id": "bc35a03b",
   "metadata": {},
   "outputs": [
    {
     "data": {
      "text/plain": [
       "<function matplotlib.pyplot.show(close=None, block=None)>"
      ]
     },
     "execution_count": 60,
     "metadata": {},
     "output_type": "execute_result"
    },
    {
     "data": {
      "image/png": "[encoded data removed]",
      "text/plain": [
       "<Figure size 640x480 with 1 Axes>"
      ]
     },
     "metadata": {},
     "output_type": "display_data"
    }
   ],
   "source": [
    "index = np.arange(2)\n",
    "plt.title('Unique products, avg')\n",
    "plt.barh(labels_2, values_2, color=['thistle', 'paleturquoise'], edgecolor='black')\n",
    "for index, value in enumerate(values_2):\n",
    "    plt.text(value, index, str(value))\n",
    "plt.show"
   ]
  }
 ],
 "metadata": {
  "kernelspec": {
   "display_name": "Python 3 (ipykernel)",
   "language": "python",
   "name": "python3"
  },
  "language_info": {
   "codemirror_mode": {
    "name": "ipython",
    "version": 3
   },
   "file_extension": ".py",
   "mimetype": "text/x-python",
   "name": "python",
   "nbconvert_exporter": "python",
   "pygments_lexer": "ipython3",
   "version": "3.9.13"
  }
 },
 "nbformat": 4,
 "nbformat_minor": 5
}
